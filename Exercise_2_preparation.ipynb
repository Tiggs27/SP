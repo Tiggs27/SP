{
 "cells": [
  {
   "cell_type": "code",
   "execution_count": 1,
   "id": "d9b8279f",
   "metadata": {},
   "outputs": [
    {
     "name": "stdout",
     "output_type": "stream",
     "text": [
      "     First Name    Last Name Age                     Rank Classification  \\\n",
      "0        Robert      Pollard  64              Firefighter      Volunteer   \n",
      "1           Lee        Purdy  57  Pump Operator/Inspector      Volunteer   \n",
      "2        Ronald      Osadacz  36    First Assistant Chief      Volunteer   \n",
      "3         Allen     Streeter  58              Firefighter      Volunteer   \n",
      "4          Gary  Bankert, Sr  37              Firefighter      Volunteer   \n",
      "...         ...          ...  ..                      ...            ...   \n",
      "2000       Jack         Rose  19                  Captain      Volunteer   \n",
      "2001      Stacy     Crawford  47              Firefighter      Volunteer   \n",
      "2002     Willie      Ratliff  66                  Captain         Career   \n",
      "2003      Louis        Patti  67      Fire Police Officer      Volunteer   \n",
      "2004    Patrick    Wolterman  28              Firefighter         Career   \n",
      "\n",
      "     Date of Incident Date of Death       Cause Of Death Nature Of Death  \\\n",
      "0        Dec 31, 1999   Jan 1, 2000  Stress/Overexertion          Stroke   \n",
      "1         Jan 8, 2000   Jan 8, 2000  Stress/Overexertion    Heart Attack   \n",
      "2        Jan 11, 2000  Jan 11, 2000  Stress/Overexertion    Heart Attack   \n",
      "3        Jan 11, 2000  Jan 11, 2000  Stress/Overexertion    Heart Attack   \n",
      "4        Jan 15, 2000  Jan 15, 2000              Trapped     Suffocation   \n",
      "...               ...           ...                  ...             ...   \n",
      "2000     Dec 19, 2015  Dec 19, 2015       Disorientation     Suffocation   \n",
      "2001     Dec 19, 2015  Dec 19, 2015  Stress/Overexertion    Heart Attack   \n",
      "2002     Dec 21, 2015  Dec 21, 2015  Stress/Overexertion    Heart Attack   \n",
      "2003      Dec 6, 2015  Dec 22, 2015  Stress/Overexertion          Stroke   \n",
      "2004     Dec 28, 2015  Dec 28, 2015             Collapse     Suffocation   \n",
      "\n",
      "               Duty                        Activity Emergency  \\\n",
      "0          Response               Vehicle Passenger       Yes   \n",
      "1     On-Scene Fire  Advance Hose Lines/Fire Attack       Yes   \n",
      "2          Response  Advance Hose Lines/Fire Attack       Yes   \n",
      "3     On-Scene Fire  Advance Hose Lines/Fire Attack       Yes   \n",
      "4          Training                           Other        No   \n",
      "...             ...                             ...       ...   \n",
      "2000  On-Scene Fire  Advance Hose Lines/Fire Attack       Yes   \n",
      "2001       Training                    Not on Scene        No   \n",
      "2002        On-Duty                    Not on Scene        No   \n",
      "2003        On-Duty                    Not on Scene        No   \n",
      "2004  On-Scene Fire  Advance Hose Lines/Fire Attack       Yes   \n",
      "\n",
      "         Property Type Unnamed: 13  \n",
      "0     Outdoor Property         NaN  \n",
      "1          Residential         NaN  \n",
      "2          Street/Road         NaN  \n",
      "3     Outdoor Property         NaN  \n",
      "4                  NaN         NaN  \n",
      "...                ...         ...  \n",
      "2000       Residential         NaN  \n",
      "2001               NaN         NaN  \n",
      "2002               NaN         NaN  \n",
      "2003               NaN         NaN  \n",
      "2004       Residential         NaN  \n",
      "\n",
      "[2005 rows x 14 columns]\n"
     ]
    }
   ],
   "source": [
    "#Leitura do ficheiro dos bombeiros\n",
    "import pandas as pd\n",
    "import numpy as np\n",
    "import matplotlib.pyplot as plt\n",
    "import plotly.express as px\n",
    "\n",
    "\n",
    "csv_reader = pd.read_csv('database_bombeiros.csv')\n",
    "csv_reader_df = pd.DataFrame(csv_reader)\n",
    "print(csv_reader)"
   ]
  },
  {
   "cell_type": "code",
   "execution_count": 2,
   "id": "65a4e12c",
   "metadata": {},
   "outputs": [
    {
     "name": "stdout",
     "output_type": "stream",
     "text": [
      "Numero de NaN [First Name] -->  0\n",
      "Numero de NaN [Last Name] -->  1\n",
      "Numero de NaN [Age] -->  359\n",
      "Numero de NaN [Rank] -->  7\n",
      "Numero de NaN [Classification] -->  3\n",
      "Numero de NaN [Date of Incident] -->  1\n",
      "Numero de NaN [Date of Death] -->  0\n",
      "Numero de NaN [Cause Of Death] -->  10\n",
      "Numero de NaN [Nature Of Death] -->  3\n",
      "Numero de NaN [Duty] -->  3\n",
      "Numero de NaN [Activity] -->  9\n",
      "Numero de NaN [Emergency] -->  0\n",
      "Numero de NaN [Property Type] -->  205\n",
      "\n",
      "\n",
      "Numero de linhas antes do tratamento de dados -->  2005\n",
      "\n",
      "\n",
      "Numero de NaN [First Name] -->  0\n",
      "Numero de NaN [Last Name] -->  0\n",
      "Numero de NaN [Age] -->  0\n",
      "Numero de NaN [Rank] -->  0\n",
      "Numero de NaN [Classification] -->  0\n",
      "Numero de NaN [Date of Incident] -->  0\n",
      "Numero de NaN [Date of Death] -->  0\n",
      "Numero de NaN [Cause Of Death] -->  0\n",
      "Numero de NaN [Nature Of Death] -->  0\n",
      "Numero de NaN [Duty] -->  0\n",
      "Numero de NaN [Activity] -->  0\n",
      "Numero de NaN [Emergency] -->  0\n",
      "Numero de NaN [Property Type] -->  0\n",
      "\n",
      "\n",
      "Numero de linhas antes do tratamento de dados -->  1433\n",
      "\n",
      "\n"
     ]
    }
   ],
   "source": [
    "csv_reader.replace([np.inf, -np.inf], np.nan,inplace=True)\n",
    "print(\"Numero de NaN [First Name] --> \", csv_reader['First Name'].isna().sum())\n",
    "print(\"Numero de NaN [Last Name] --> \", csv_reader['Last Name'].isna().sum())\n",
    "print(\"Numero de NaN [Age] --> \", csv_reader['Age'].isna().sum())\n",
    "print(\"Numero de NaN [Rank] --> \", csv_reader['Rank'].isna().sum())\n",
    "print(\"Numero de NaN [Classification] --> \", csv_reader['Classification'].isna().sum())\n",
    "print(\"Numero de NaN [Date of Incident] --> \", csv_reader['Date of Incident'].isna().sum())\n",
    "print(\"Numero de NaN [Date of Death] --> \", csv_reader['Date of Death'].isna().sum())\n",
    "print(\"Numero de NaN [Cause Of Death] --> \", csv_reader['Cause Of Death'].isna().sum())\n",
    "print(\"Numero de NaN [Nature Of Death] --> \", csv_reader['Nature Of Death'].isna().sum())\n",
    "print(\"Numero de NaN [Duty] --> \", csv_reader['Duty'].isna().sum())\n",
    "print(\"Numero de NaN [Activity] --> \", csv_reader['Activity'].isna().sum())\n",
    "print(\"Numero de NaN [Emergency] --> \", csv_reader['Emergency'].isna().sum())\n",
    "print(\"Numero de NaN [Property Type] --> \", csv_reader['Property Type'].isna().sum())\n",
    "\n",
    "print(\"\\n\")\n",
    "lines = len(csv_reader)\n",
    "print(\"Numero de linhas antes do tratamento de dados --> \", lines)\n",
    "print(\"\\n\")\n",
    "\n",
    "\n",
    "csv_reader.dropna(subset = [\"First Name\"], inplace=True)\n",
    "print(\"Numero de NaN [First Name] --> \", csv_reader['First Name'].isna().sum())\n",
    "csv_reader.dropna(subset = [\"Last Name\"], inplace=True)\n",
    "print(\"Numero de NaN [Last Name] --> \", csv_reader['Last Name'].isna().sum())\n",
    "csv_reader.dropna(subset = [\"Age\"], inplace=True)\n",
    "print(\"Numero de NaN [Age] --> \", csv_reader['Age'].isna().sum())\n",
    "csv_reader.dropna(subset = [\"Rank\"], inplace=True)\n",
    "print(\"Numero de NaN [Rank] --> \", csv_reader['Rank'].isna().sum())\n",
    "csv_reader.dropna(subset = [\"Classification\"], inplace=True)\n",
    "print(\"Numero de NaN [Classification] --> \", csv_reader['Classification'].isna().sum())\n",
    "csv_reader.dropna(subset = [\"Date of Incident\"], inplace=True)\n",
    "print(\"Numero de NaN [Date of Incident] --> \", csv_reader['Date of Incident'].isna().sum())\n",
    "csv_reader.dropna(subset = [\"Date of Death\"], inplace=True)\n",
    "print(\"Numero de NaN [Date of Death] --> \", csv_reader['Date of Death'].isna().sum())\n",
    "csv_reader.dropna(subset = [\"Cause Of Death\"], inplace=True)\n",
    "print(\"Numero de NaN [Cause Of Death] --> \", csv_reader['Cause Of Death'].isna().sum())\n",
    "csv_reader.dropna(subset = [\"Nature Of Death\"], inplace=True)\n",
    "print(\"Numero de NaN [Nature Of Death] --> \", csv_reader['Nature Of Death'].isna().sum())\n",
    "csv_reader.dropna(subset = [\"Duty\"], inplace=True)\n",
    "print(\"Numero de NaN [Duty] --> \", csv_reader['Duty'].isna().sum())\n",
    "csv_reader.dropna(subset = [\"Activity\"], inplace=True)\n",
    "print(\"Numero de NaN [Activity] --> \", csv_reader['Activity'].isna().sum())\n",
    "csv_reader.dropna(subset = [\"Emergency\"], inplace=True)\n",
    "print(\"Numero de NaN [Emergency] --> \", csv_reader['Emergency'].isna().sum())\n",
    "csv_reader.dropna(subset = [\"Property Type\"], inplace=True)\n",
    "print(\"Numero de NaN [Property Type] --> \", csv_reader['Property Type'].isna().sum())\n",
    "\n",
    "print(\"\\n\")\n",
    "lines = len(csv_reader)\n",
    "print(\"Numero de linhas antes do tratamento de dados --> \", lines)\n",
    "print(\"\\n\")"
   ]
  },
  {
   "cell_type": "code",
   "execution_count": 3,
   "id": "8113c49a",
   "metadata": {},
   "outputs": [
    {
     "name": "stdout",
     "output_type": "stream",
     "text": [
      "First Name                  object\n",
      "Last Name                   object\n",
      "Age                          int64\n",
      "Rank                        object\n",
      "Classification              object\n",
      "Date of Incident    datetime64[ns]\n",
      "Date of Death       datetime64[ns]\n",
      "Cause Of Death              object\n",
      "Nature Of Death             object\n",
      "Duty                        object\n",
      "Activity                    object\n",
      "Emergency                   object\n",
      "Property Type               object\n",
      "Unnamed: 13                 object\n",
      "dtype: object\n"
     ]
    }
   ],
   "source": [
    "csv_reader['Age'] = csv_reader['Age'].apply(pd.to_numeric)\n",
    "csv_reader[['Date of Incident','Date of Death']] = csv_reader[['Date of Incident','Date of Death']].apply(pd.to_datetime)\n",
    "datatype = csv_reader.dtypes\n",
    "\n",
    "print(datatype)"
   ]
  },
  {
   "cell_type": "code",
   "execution_count": 4,
   "id": "f3a784e5",
   "metadata": {},
   "outputs": [
    {
     "name": "stdout",
     "output_type": "stream",
     "text": [
      "              Full Name  Age                     Rank Classification  \\\n",
      "0        Robert Pollard   64              Firefighter      Volunteer   \n",
      "1             Lee Purdy   57  Pump Operator/Inspector      Volunteer   \n",
      "2        Ronald Osadacz   36    First Assistant Chief      Volunteer   \n",
      "3        Allen Streeter   58              Firefighter      Volunteer   \n",
      "5          Juan De Leon   53                  Captain         Career   \n",
      "...                 ...  ...                      ...            ...   \n",
      "1997   Lawrence Millard   56              Firefighter      Volunteer   \n",
      "1998     Daniel Capuano   43    Firefighter/Paramedic         Career   \n",
      "1999       Sidney Winer   91              Firefighter      Volunteer   \n",
      "2000          Jack Rose   19                  Captain      Volunteer   \n",
      "2004  Patrick Wolterman   28              Firefighter         Career   \n",
      "\n",
      "     Date of Incident Date of Death       Cause Of Death Nature Of Death  \\\n",
      "0          1999-12-31    2000-01-01  Stress/Overexertion          Stroke   \n",
      "1          2000-01-08    2000-01-08  Stress/Overexertion    Heart Attack   \n",
      "2          2000-01-11    2000-01-11  Stress/Overexertion    Heart Attack   \n",
      "3          2000-01-11    2000-01-11  Stress/Overexertion    Heart Attack   \n",
      "5          2000-01-17    2000-01-17  Stress/Overexertion    Heart Attack   \n",
      "...               ...           ...                  ...             ...   \n",
      "1997       2015-12-11    2015-12-11               Impact          Trauma   \n",
      "1998       2015-12-14    2015-12-14                 Fall          Trauma   \n",
      "1999       2015-10-20    2015-12-15    Vehicle Collision          Trauma   \n",
      "2000       2015-12-19    2015-12-19       Disorientation     Suffocation   \n",
      "2004       2015-12-28    2015-12-28             Collapse     Suffocation   \n",
      "\n",
      "                    Duty                        Activity Emergency  \\\n",
      "0               Response               Vehicle Passenger       Yes   \n",
      "1          On-Scene Fire  Advance Hose Lines/Fire Attack       Yes   \n",
      "2               Response  Advance Hose Lines/Fire Attack       Yes   \n",
      "3          On-Scene Fire  Advance Hose Lines/Fire Attack       Yes   \n",
      "5                On-Duty                         Support        No   \n",
      "...                  ...                             ...       ...   \n",
      "1997  On-Scene Emergency                    Scene Safety       Yes   \n",
      "1998       On-Scene Fire               Search and Rescue       Yes   \n",
      "1999             On-Duty                    Not on Scene        No   \n",
      "2000       On-Scene Fire  Advance Hose Lines/Fire Attack       Yes   \n",
      "2004       On-Scene Fire  Advance Hose Lines/Fire Attack       Yes   \n",
      "\n",
      "         Property Type Unnamed: 13  \n",
      "0     Outdoor Property         NaN  \n",
      "1          Residential         NaN  \n",
      "2          Street/Road         NaN  \n",
      "3     Outdoor Property         NaN  \n",
      "5         Store/Office         NaN  \n",
      "...                ...         ...  \n",
      "1997       Street/Road         NaN  \n",
      "1998           Storage         NaN  \n",
      "1999       Street/Road         NaN  \n",
      "2000       Residential         NaN  \n",
      "2004       Residential         NaN  \n",
      "\n",
      "[1433 rows x 13 columns]\n"
     ]
    }
   ],
   "source": [
    "csv_reader['Full Name'] = csv_reader['First Name'] + \" \" + csv_reader['Last Name']\n",
    "first_column = csv_reader.pop('Full Name')\n",
    "csv_reader.insert(0, 'Full Name' , first_column)\n",
    "csv_reader = csv_reader.drop(['First Name','Last Name'], 1)\n",
    "print(csv_reader)"
   ]
  },
  {
   "cell_type": "code",
   "execution_count": 5,
   "id": "903ee6e5",
   "metadata": {
    "scrolled": false
   },
   "outputs": [
    {
     "name": "stdout",
     "output_type": "stream",
     "text": [
      "-------------------------------\n",
      "Mean Age of Dead Fireman  45.76\n",
      "-------------------------------\n",
      "\n"
     ]
    }
   ],
   "source": [
    "column = ['Mean Age']\n",
    "dutys_test = ['Mean']\n",
    "mean_age_test = csv_reader['Age'].mean()\n",
    "mean_age = [csv_reader['Age'].mean()]\n",
    "\n",
    "duty = csv_reader['Duty'].unique()\n",
    "\n",
    "#dutys = [duty[0], duty[1], duty[2], duty[3], duty[4]]\n",
    "x = np.sort(csv_reader[\"Duty\"].unique())\n",
    "for r in duty:\n",
    "    dutys = csv_reader.loc[csv_reader['Duty'] == r]\n",
    "    mean_age.append(dutys['Age'].mean())\n",
    "    column.append('Mean age of duty: ' + r)\n",
    "    \n",
    "limited_float = round(mean_age_test, 2)\n",
    "print(\"-------------------------------\")\n",
    "print(\"Mean Age of Dead Fireman \", limited_float)\n",
    "print(\"-------------------------------\\n\")"
   ]
  },
  {
   "cell_type": "code",
   "execution_count": 6,
   "id": "604481ab",
   "metadata": {},
   "outputs": [
    {
     "name": "stderr",
     "output_type": "stream",
     "text": [
      "No handles with labels found to put in legend.\n"
     ]
    },
    {
     "data": {
      "image/png": "[encoded data removed]",
      "text/plain": [
       "<Figure size 864x576 with 1 Axes>"
      ]
     },
     "metadata": {
      "needs_background": "light"
     },
     "output_type": "display_data"
    }
   ],
   "source": [
    "plt.figure(figsize=(12,8))\n",
    "\n",
    "plt.grid(True)\n",
    "plt.title(\"Graph of Mean of Age\")\n",
    "plt.ylabel(\"Age\")\n",
    "plt.xlabel(\"Mean\")\n",
    "plt.scatter(dutys_test, mean_age_test,  color='red')\n",
    "plt.plot(dutys_test, mean_age_test,  color='red')\n",
    "\n",
    "plt.legend()\n",
    "plt.show()"
   ]
  },
  {
   "cell_type": "code",
   "execution_count": 7,
   "id": "b6cc281a",
   "metadata": {},
   "outputs": [
    {
     "name": "stdout",
     "output_type": "stream",
     "text": [
      "-------------------------------------------\n"
     ]
    },
    {
     "data": {
      "text/html": [
       "<div>\n",
       "<style scoped>\n",
       "    .dataframe tbody tr th:only-of-type {\n",
       "        vertical-align: middle;\n",
       "    }\n",
       "\n",
       "    .dataframe tbody tr th {\n",
       "        vertical-align: top;\n",
       "    }\n",
       "\n",
       "    .dataframe thead th {\n",
       "        text-align: right;\n",
       "    }\n",
       "</style>\n",
       "<table border=\"1\" class=\"dataframe\">\n",
       "  <thead>\n",
       "    <tr style=\"text-align: right;\">\n",
       "      <th></th>\n",
       "      <th>Mean</th>\n",
       "    </tr>\n",
       "  </thead>\n",
       "  <tbody>\n",
       "    <tr>\n",
       "      <th>Mean Age</th>\n",
       "      <td>45.76</td>\n",
       "    </tr>\n",
       "    <tr>\n",
       "      <th>Mean age of duty: Response</th>\n",
       "      <td>44.25</td>\n",
       "    </tr>\n",
       "    <tr>\n",
       "      <th>Mean age of duty: On-Scene Fire</th>\n",
       "      <td>43.46</td>\n",
       "    </tr>\n",
       "    <tr>\n",
       "      <th>Mean age of duty: On-Duty</th>\n",
       "      <td>49.43</td>\n",
       "    </tr>\n",
       "    <tr>\n",
       "      <th>Mean age of duty: Training</th>\n",
       "      <td>42.27</td>\n",
       "    </tr>\n",
       "    <tr>\n",
       "      <th>Mean age of duty: On-Scene Emergency</th>\n",
       "      <td>51.06</td>\n",
       "    </tr>\n",
       "    <tr>\n",
       "      <th>Mean age of duty: Return</th>\n",
       "      <td>47.66</td>\n",
       "    </tr>\n",
       "  </tbody>\n",
       "</table>\n",
       "</div>"
      ],
      "text/plain": [
       "                                       Mean\n",
       "Mean Age                              45.76\n",
       "Mean age of duty: Response            44.25\n",
       "Mean age of duty: On-Scene Fire       43.46\n",
       "Mean age of duty: On-Duty             49.43\n",
       "Mean age of duty: Training            42.27\n",
       "Mean age of duty: On-Scene Emergency  51.06\n",
       "Mean age of duty: Return              47.66"
      ]
     },
     "metadata": {},
     "output_type": "display_data"
    },
    {
     "name": "stdout",
     "output_type": "stream",
     "text": [
      "-------------------------------------------\n"
     ]
    }
   ],
   "source": [
    "means_age_df = pd.DataFrame(mean_age,index=column,columns=['Mean'])\n",
    "limited_float_two = round(means_age_df, 2)\n",
    "print(\"-------------------------------------------\")\n",
    "display(limited_float_two)\n",
    "print(\"-------------------------------------------\")\n",
    "age_test = []\n",
    "age_test = [limited_float_two.iloc[1], limited_float_two.iloc[2],limited_float_two.iloc[3],limited_float_two.iloc[4], limited_float_two.iloc[5],limited_float_two.iloc[6]]\n"
   ]
  },
  {
   "cell_type": "code",
   "execution_count": 8,
   "id": "8fc14bb4",
   "metadata": {},
   "outputs": [
    {
     "name": "stderr",
     "output_type": "stream",
     "text": [
      "No handles with labels found to put in legend.\n"
     ]
    },
    {
     "data": {
      "image/png": "[encoded data removed]",
      "text/plain": [
       "<Figure size 864x576 with 1 Axes>"
      ]
     },
     "metadata": {
      "needs_background": "light"
     },
     "output_type": "display_data"
    }
   ],
   "source": [
    "plt.figure(figsize=(12,8))\n",
    "\n",
    "plt.grid(True)\n",
    "plt.title(\"Graph of Mean of Age\")\n",
    "plt.ylabel(\"Age\")\n",
    "plt.xlabel(\"Duty\")\n",
    "for i in range(len(duty)):\n",
    "    plt.scatter(duty[i], age_test[i],  color='red')\n",
    "plt.plot(duty, age_test,  color='red')\n",
    "\n",
    "plt.legend()\n",
    "plt.show()"
   ]
  },
  {
   "cell_type": "code",
   "execution_count": 9,
   "id": "581f7ad7",
   "metadata": {},
   "outputs": [],
   "source": [
    "#Metodo de calculo da sensibilidade\n",
    "def sensitivity_calc(csv_reader,column='Age'):\n",
    "    means = []\n",
    "    initialize = csv_reader[column].mean()    \n",
    "    for index in csv_reader.index:\n",
    "        row = csv_reader.index.isin([index])\n",
    "        means.append(csv_reader.loc[~row,column].mean())\n",
    "    means = np.array(means)\n",
    "    sensitivity_max = -1\n",
    "    for k,mean_k in enumerate(means):\n",
    "        dif = abs(initialize - mean_k)\n",
    "        if(dif > sensitivity_max):\n",
    "            sensitivity_max = dif\n",
    "    return sensitivity_max\n",
    "#Metodo de calculo da sensibilidade + laplace que dá a diferencial \n",
    "def differential_privacy(csv_reader, sensitivity_calculation_test ,column='Age',epsilon=0.2):\n",
    "    values_noise = 0\n",
    "    values_noise = np.random.laplace(0, scale=sensitivity_calculation_test / epsilon, size=csv_reader.shape[0])\n",
    "    csv_reader_dp = csv_reader.copy()\n",
    "    csv_reader_dp[column] += values_noise\n",
    "    return csv_reader_dp"
   ]
  },
  {
   "cell_type": "code",
   "execution_count": 10,
   "id": "8193b850",
   "metadata": {},
   "outputs": [],
   "source": [
    "epsilons_value = [0, 0.01, 0.2, np.log(2), np.log(3)]\n",
    "epsilons_duty = [0.01,0.2,np.log(2), np.log(3)]\n",
    "epsilons_test = [0, 0.01, 0.2, np.log(2), np.log(3)]\n",
    "epsilons_index_df = ['f', 'Max f', 'Original' ,0.01, 0.2, 'ln(2)', 'ln(3)']\n",
    "epsilons_index_test = ['f', 'Max f',0.01, 0.2, 'ln(2)', 'ln(3)']\n",
    "epsilons_cols_df = ['Mean Age']\n",
    "epsilons_cols_test = ['Mean age of duty: Response', 'Mean age of duty: On-Scene Fire', 'Mean age of duty: On-Duty', 'Mean age of duty: Training', 'Mean age of duty: On-Scene Emergency', 'Mean age of duty: Return']\n",
    "epsilons_cols_test_short = ['Response', 'On-Scene Fire', 'On-Duty', 'Training', 'On-Scene Emergency', 'Return']\n",
    "calc_age = []\n",
    "calc_age_duty = []\n",
    "calc_age_duty_test = []"
   ]
  },
  {
   "cell_type": "code",
   "execution_count": 11,
   "id": "19d3508d",
   "metadata": {},
   "outputs": [
    {
     "data": {
      "text/html": [
       "<div>\n",
       "<style scoped>\n",
       "    .dataframe tbody tr th:only-of-type {\n",
       "        vertical-align: middle;\n",
       "    }\n",
       "\n",
       "    .dataframe tbody tr th {\n",
       "        vertical-align: top;\n",
       "    }\n",
       "\n",
       "    .dataframe thead th {\n",
       "        text-align: right;\n",
       "    }\n",
       "</style>\n",
       "<table border=\"1\" class=\"dataframe\">\n",
       "  <thead>\n",
       "    <tr style=\"text-align: right;\">\n",
       "      <th></th>\n",
       "      <th>0.01</th>\n",
       "      <th>0.2</th>\n",
       "      <th>ln(2)</th>\n",
       "      <th>ln(3)</th>\n",
       "    </tr>\n",
       "  </thead>\n",
       "  <tbody>\n",
       "    <tr>\n",
       "      <th>Mean Age</th>\n",
       "      <td>0.003926</td>\n",
       "      <td>0.027969</td>\n",
       "      <td>0.009492</td>\n",
       "      <td>0.018688</td>\n",
       "    </tr>\n",
       "  </tbody>\n",
       "</table>\n",
       "</div>"
      ],
      "text/plain": [
       "              0.01       0.2     ln(2)     ln(3)\n",
       "Mean Age  0.003926  0.027969  0.009492  0.018688"
      ]
     },
     "metadata": {},
     "output_type": "display_data"
    }
   ],
   "source": [
    "col = 'Age'\n",
    "sensitivity_mean_age  = sensitivity_calc(csv_reader,column=col)\n",
    "age_errors = [sensitivity_mean_age, sensitivity_mean_age]\n",
    "for epsilon in epsilons_value:\n",
    "    diff_priv = differential_privacy(csv_reader,column=col,sensitivity_calculation_test=sensitivity_mean_age,epsilon=0.2)\n",
    "    dp_mean_age = diff_priv[col].mean()\n",
    "    error_mean = np.mean(np.abs((mean_age_test - dp_mean_age) / mean_age_test)) * 100\n",
    "    age_errors.append(error_mean)    \n",
    "calc_age.append(age_errors)\n",
    "calc_age_df = pd.DataFrame(calc_age,index=epsilons_cols_df,columns=epsilons_index_df)\n",
    "display(calc_age_df.loc[:,[0.01,0.2,'ln(2)','ln(3)']])\n",
    "\n",
    "avg = [calc_age_df[0.01], calc_age_df[0.2], calc_age_df['ln(2)'], calc_age_df['ln(3)']]\n"
   ]
  },
  {
   "cell_type": "code",
   "execution_count": 12,
   "id": "fcdc1777",
   "metadata": {},
   "outputs": [
    {
     "data": {
      "image/png": "[encoded data removed]",
      "text/plain": [
       "<Figure size 720x576 with 1 Axes>"
      ]
     },
     "metadata": {
      "needs_background": "light"
     },
     "output_type": "display_data"
    }
   ],
   "source": [
    "plt.figure(figsize=(10,8))\n",
    "    \n",
    "plt.title(\"Graph of sensivity of Age\", fontsize = 'x-large')\n",
    "plt.ylabel(\"Sensitivity\", fontsize='x-large')\n",
    "plt.xlabel(\"Epsilon value\", fontsize='x-large')\n",
    "plt.grid(True) \n",
    "for i in range(len(epsilons_duty)):\n",
    "    plt.scatter(epsilons_duty[i],avg[i], color='red')\n",
    "plt.plot(epsilons_duty, avg, label=\"Average Age -> 0.01, 0.2, ln(2), ln(3))\", color='red')\n",
    "plt.legend()\n",
    "plt.show()"
   ]
  },
  {
   "cell_type": "code",
   "execution_count": 13,
   "id": "39f0ce58",
   "metadata": {},
   "outputs": [
    {
     "name": "stderr",
     "output_type": "stream",
     "text": [
      "<ipython-input-9-2def62e2af02>:18: RuntimeWarning: divide by zero encountered in double_scalars\n",
      "  values_noise = np.random.laplace(0, scale=sensitivity_calculation_test / epsilon, size=csv_reader.shape[0])\n"
     ]
    },
    {
     "data": {
      "text/html": [
       "<div>\n",
       "<style scoped>\n",
       "    .dataframe tbody tr th:only-of-type {\n",
       "        vertical-align: middle;\n",
       "    }\n",
       "\n",
       "    .dataframe tbody tr th {\n",
       "        vertical-align: top;\n",
       "    }\n",
       "\n",
       "    .dataframe thead th {\n",
       "        text-align: right;\n",
       "    }\n",
       "</style>\n",
       "<table border=\"1\" class=\"dataframe\">\n",
       "  <thead>\n",
       "    <tr style=\"text-align: right;\">\n",
       "      <th></th>\n",
       "      <th>0.01</th>\n",
       "      <th>0.2</th>\n",
       "      <th>ln(2)</th>\n",
       "      <th>ln(3)</th>\n",
       "    </tr>\n",
       "  </thead>\n",
       "  <tbody>\n",
       "    <tr>\n",
       "      <th>Mean age of duty: Response</th>\n",
       "      <td>12.209001</td>\n",
       "      <td>4.171775</td>\n",
       "      <td>3.177303</td>\n",
       "      <td>3.118481</td>\n",
       "    </tr>\n",
       "    <tr>\n",
       "      <th>Mean age of duty: On-Scene Fire</th>\n",
       "      <td>7.598888</td>\n",
       "      <td>4.629084</td>\n",
       "      <td>4.809620</td>\n",
       "      <td>4.875691</td>\n",
       "    </tr>\n",
       "    <tr>\n",
       "      <th>Mean age of duty: On-Duty</th>\n",
       "      <td>12.009515</td>\n",
       "      <td>10.143594</td>\n",
       "      <td>7.907476</td>\n",
       "      <td>8.059587</td>\n",
       "    </tr>\n",
       "    <tr>\n",
       "      <th>Mean age of duty: Training</th>\n",
       "      <td>24.454869</td>\n",
       "      <td>9.033557</td>\n",
       "      <td>7.774670</td>\n",
       "      <td>7.573197</td>\n",
       "    </tr>\n",
       "    <tr>\n",
       "      <th>Mean age of duty: On-Scene Emergency</th>\n",
       "      <td>28.135918</td>\n",
       "      <td>10.627749</td>\n",
       "      <td>11.659659</td>\n",
       "      <td>11.889469</td>\n",
       "    </tr>\n",
       "    <tr>\n",
       "      <th>Mean age of duty: Return</th>\n",
       "      <td>44.715242</td>\n",
       "      <td>0.796590</td>\n",
       "      <td>3.813714</td>\n",
       "      <td>5.308220</td>\n",
       "    </tr>\n",
       "  </tbody>\n",
       "</table>\n",
       "</div>"
      ],
      "text/plain": [
       "                                           0.01        0.2      ln(2)  \\\n",
       "Mean age of duty: Response            12.209001   4.171775   3.177303   \n",
       "Mean age of duty: On-Scene Fire        7.598888   4.629084   4.809620   \n",
       "Mean age of duty: On-Duty             12.009515  10.143594   7.907476   \n",
       "Mean age of duty: Training            24.454869   9.033557   7.774670   \n",
       "Mean age of duty: On-Scene Emergency  28.135918  10.627749  11.659659   \n",
       "Mean age of duty: Return              44.715242   0.796590   3.813714   \n",
       "\n",
       "                                          ln(3)  \n",
       "Mean age of duty: Response             3.118481  \n",
       "Mean age of duty: On-Scene Fire        4.875691  \n",
       "Mean age of duty: On-Duty              8.059587  \n",
       "Mean age of duty: Training             7.573197  \n",
       "Mean age of duty: On-Scene Emergency  11.889469  \n",
       "Mean age of duty: Return               5.308220  "
      ]
     },
     "metadata": {},
     "output_type": "display_data"
    }
   ],
   "source": [
    "max_value = -1\n",
    "acumulate_values = []\n",
    "for r in duty:\n",
    "    dutys = csv_reader.loc[csv_reader['Duty'] == r]\n",
    "    acumulate_values.append(sensitivity_calc(dutys,column=col))\n",
    "max_value = max(acumulate_values)        \n",
    "for i,r in enumerate(duty):\n",
    "    dutys = csv_reader.loc[csv_reader['Duty'] == r]\n",
    "    epsilons_cols_df.append('mean age, race: ' + r)\n",
    "    duty_errors = [acumulate_values[i], max_value]\n",
    "    for epsilon in epsilons_value:\n",
    "        diff_priv = differential_privacy(csv_reader,column=col,sensitivity_calculation_test=max_value,epsilon=epsilon)\n",
    "        dp_mean_age = diff_priv.loc[diff_priv['Duty'] == r,col].mean()\n",
    "        duty_errors.append(np.mean(np.abs((mean_age_test - dp_mean_age) / mean_age_test)) * 100)\n",
    "    calc_age_duty.append(duty_errors)\n",
    "calc_age_duty_test.append(calc_age_duty)\n",
    "teste_array = np.array(calc_age_duty_test)\n",
    "outro = np.array(teste_array)\n",
    "znew_array = outro[np.logical_not(np.isnan(outro))]\n",
    "vai = znew_array.reshape((6,6))\n",
    "\n",
    "calc_age_duty_df = pd.DataFrame(vai,index=['Mean age of duty: Response', 'Mean age of duty: On-Scene Fire', 'Mean age of duty: On-Duty', 'Mean age of duty: Training', 'Mean age of duty: On-Scene Emergency', 'Mean age of duty: Return'], columns=['Delta(f)', 'Max Delta(f)',0.01, 0.2, 'ln(2)', 'ln(3)'])\n",
    "final_df = calc_age_duty_df.loc[:,[0.01,0.2,'ln(2)','ln(3)']]\n",
    "value_001 = calc_age_duty_df[0.01]\n",
    "value_02 = calc_age_duty_df[0.2]\n",
    "value_ln2 = calc_age_duty_df['ln(2)']\n",
    "value_ln3 = calc_age_duty_df['ln(3)']\n",
    "display(final_df)\n"
   ]
  },
  {
   "cell_type": "code",
   "execution_count": 14,
   "id": "acf18a5a",
   "metadata": {},
   "outputs": [
    {
     "data": {
      "image/png": "[encoded data removed]",
      "text/plain": [
       "<Figure size 720x576 with 1 Axes>"
      ]
     },
     "metadata": {
      "needs_background": "light"
     },
     "output_type": "display_data"
    }
   ],
   "source": [
    "plt.figure(figsize=(10,8))\n",
    "    \n",
    "plt.title(\"Value 0.01 for each duty\", fontsize = 'x-large')\n",
    "plt.ylabel(\"Value 0.01\", fontsize='x-large')\n",
    "plt.xlabel(\"Duty\", fontsize='x-large')\n",
    "plt.grid(True) \n",
    "for i in range(len(value_001)):\n",
    "    plt.scatter(epsilons_cols_test_short[i],value_001[i], color='red')\n",
    "plt.plot(epsilons_cols_test_short[i], value_001[i], label=\"Epsilon Value -> 0.01\", color='red')\n",
    "plt.legend()\n",
    "plt.show()"
   ]
  },
  {
   "cell_type": "code",
   "execution_count": 15,
   "id": "c13b1cbb",
   "metadata": {},
   "outputs": [
    {
     "data": {
      "image/png": "[encoded data removed]",
      "text/plain": [
       "<Figure size 720x576 with 1 Axes>"
      ]
     },
     "metadata": {
      "needs_background": "light"
     },
     "output_type": "display_data"
    }
   ],
   "source": [
    "plt.figure(figsize=(10,8))\n",
    "    \n",
    "plt.title(\"Value 0.02 for each duty\", fontsize = 'x-large')\n",
    "plt.ylabel(\"Value 0.02\", fontsize='x-large')\n",
    "plt.xlabel(\"Duty\", fontsize='x-large')\n",
    "plt.grid(True) \n",
    "for i in range(len(value_02)):\n",
    "    plt.scatter(epsilons_cols_test_short[i],value_02[i], color='red')\n",
    "plt.plot(epsilons_cols_test_short[i], value_02[i], label=\"Epsilon Value -> 0.2\", color='red')\n",
    "plt.legend()\n",
    "plt.show()\n"
   ]
  },
  {
   "cell_type": "code",
   "execution_count": 16,
   "id": "7977f77d",
   "metadata": {},
   "outputs": [
    {
     "data": {
      "image/png": "[encoded data removed]",
      "text/plain": [
       "<Figure size 720x576 with 1 Axes>"
      ]
     },
     "metadata": {
      "needs_background": "light"
     },
     "output_type": "display_data"
    }
   ],
   "source": [
    "plt.figure(figsize=(10,8))\n",
    "    \n",
    "plt.title(\"Value ln(2) for each duty\", fontsize = 'x-large')\n",
    "plt.ylabel(\"Value ln(2)\", fontsize='x-large')\n",
    "plt.xlabel(\"Duty\", fontsize='x-large')\n",
    "plt.grid(True) \n",
    "for i in range(len(value_ln2)):\n",
    "    plt.scatter(epsilons_cols_test_short[i],value_ln2[i], color='red')\n",
    "plt.plot(epsilons_cols_test_short[i], value_ln2[i], label=\"Epsilon Value -> ln(2)\", color='red')\n",
    "plt.legend()\n",
    "plt.show()"
   ]
  },
  {
   "cell_type": "code",
   "execution_count": 17,
   "id": "38ddfebe",
   "metadata": {},
   "outputs": [
    {
     "data": {
      "image/png": "[encoded data removed]",
      "text/plain": [
       "<Figure size 720x576 with 1 Axes>"
      ]
     },
     "metadata": {
      "needs_background": "light"
     },
     "output_type": "display_data"
    }
   ],
   "source": [
    "plt.figure(figsize=(10,8))\n",
    "    \n",
    "plt.title(\"Value ln(3) for each duty\", fontsize = 'x-large')\n",
    "plt.ylabel(\"Value ln(3)\", fontsize='x-large')\n",
    "plt.xlabel(\"Duty\", fontsize='x-large')\n",
    "plt.grid(True) \n",
    "for i in range(len(value_ln2)):\n",
    "    plt.scatter(epsilons_cols_test_short[i],value_ln3[i], color='red')\n",
    "plt.plot(epsilons_cols_test_short[i], value_ln3[i], label=\"Epsilon Value -> ln(3)\", color='red')\n",
    "plt.legend()\n",
    "plt.show()"
   ]
  }
 ],
 "metadata": {
  "kernelspec": {
   "display_name": "Python 3",
   "language": "python",
   "name": "python3"
  },
  "language_info": {
   "codemirror_mode": {
    "name": "ipython",
    "version": 3
   },
   "file_extension": ".py",
   "mimetype": "text/x-python",
   "name": "python",
   "nbconvert_exporter": "python",
   "pygments_lexer": "ipython3",
   "version": "3.8.8"
  }
 },
 "nbformat": 4,
 "nbformat_minor": 5
}
